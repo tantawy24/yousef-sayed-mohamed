{
 "cells": [
  {
   "cell_type": "code",
   "execution_count": 12,
   "id": "dadd5392",
   "metadata": {},
   "outputs": [
    {
     "name": "stdout",
     "output_type": "stream",
     "text": [
      "{'emp_name': 'Ahmed', 'email': 'ahmed@gmail.com', 'job_profile': 'Ai'}\n"
     ]
    }
   ],
   "source": [
    "#csv file \n",
    "#json file\n",
    "import csv\n",
    "import json\n",
    "# opening json file and loading the data\n",
    "# into the variable data \n",
    "with open('C:\\\\Users\\\\J0223049\\\\Desktop\\\\example_2.json') as json_file :\n",
    "    data= json.load(json_file)\n",
    "employee_data= data['emp_details']\n",
    "# now we will open and write in csv file\n",
    "data_file = open('C:\\\\Users\\\\J0223049\\\\Desktop\\\\New.csv', 'w')\n",
    "#create the csv write object\n",
    "csv_writer= csv.writer(data_file)\n",
    "\n",
    "\n",
    "count=0\n",
    "\n",
    "\n",
    "for emp in employee_data:\n",
    "    if count==0:\n",
    "        header = emp.keys()\n",
    "        csv_writer.writerow(header)\n",
    "        count+= 1\n",
    "        print(emp)\n",
    "        \n",
    "        #writing data of csv file\n",
    "    csv_writer.writerow(emp.values())\n",
    "data_file.close()\n"
   ]
  },
  {
   "cell_type": "code",
   "execution_count": null,
   "id": "22a7b4ec",
   "metadata": {},
   "outputs": [],
   "source": []
  }
 ],
 "metadata": {
  "kernelspec": {
   "display_name": "Python 3 (ipykernel)",
   "language": "python",
   "name": "python3"
  },
  "language_info": {
   "codemirror_mode": {
    "name": "ipython",
    "version": 3
   },
   "file_extension": ".py",
   "mimetype": "text/x-python",
   "name": "python",
   "nbconvert_exporter": "python",
   "pygments_lexer": "ipython3",
   "version": "3.11.4"
  }
 },
 "nbformat": 4,
 "nbformat_minor": 5
}
